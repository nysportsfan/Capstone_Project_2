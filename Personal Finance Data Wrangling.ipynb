{
 "cells": [
  {
   "cell_type": "markdown",
   "metadata": {},
   "source": [
    "# Personal Finance Subreddit Capstone Project\n",
    "\n",
    "## Data Wrangling\n",
    "\n",
    "The goal of this notebook is to extract data containing information about the personal finance subreddit from Reddit's API, select interesting features that can be relevant to the project and clean the dataset so that it is ready for data exploration.\n",
    "\n",
    "- **Import the necessary packages**"
   ]
  },
  {
   "cell_type": "code",
   "execution_count": 93,
   "metadata": {},
   "outputs": [],
   "source": [
    "import praw\n",
    "import pandas as pd\n",
    "import numpy as np\n",
    "import datetime\n",
    "import json\n",
    "import requests\n",
    "import string\n",
    "import time\n",
    "import datetime\n",
    "import sqlite3\n",
    "import matplotlib.pyplot as plt\n",
    "%matplotlib inline"
   ]
  },
  {
   "cell_type": "markdown",
   "metadata": {},
   "source": [
    "- **Extract the data from reddit using pushshift**"
   ]
  },
  {
   "cell_type": "code",
   "execution_count": 15,
   "metadata": {},
   "outputs": [],
   "source": [
    "# Variables\n",
    "sub    = 'personalfinance'     # name of the subreddit you would like to scrape\n",
    "after  = '2018-08-01'    # earliest date that will be scraped\n",
    "before = '2018-09-19'    # latest date that will be scraped\n",
    "fast   = True           # True will be faster, won't pull upvote ratio"
   ]
  },
  {
   "cell_type": "code",
   "execution_count": null,
   "metadata": {},
   "outputs": [],
   "source": [
    "# Initiate sqlite\n",
    "sql = sqlite3.connect('personalfinance_.db')\n",
    "cur = sql.cursor()\n",
    "cur.execute('CREATE TABLE IF NOT EXISTS posts (name TEXT, title TEXT, readable_utc TEXT, permalink TEXT, domain TEXT, url TEXT, author TEXT, score TEXT, upvote_ratio TEXT, num_comments TEXT)')\n",
    "sql.commit()\n",
    "print('Loaded SQL Database and Tables')\n",
    "\n",
    "# Convert the specified dates to strptime\n",
    "after = time.mktime(datetime.datetime.strptime(after, '%Y-%m-%d').timetuple())\n",
    "after = int(after)\n",
    "readable_after = time.strftime('%d %b %Y %I:%M %p', time.localtime(after))\n",
    "before = time.mktime(datetime.datetime.strptime(before, '%Y-%m-%d').timetuple())\n",
    "before = int(before) + 86399\n",
    "readable_before = time.strftime('%d %b %Y %I:%M %p', time.localtime(before))\n",
    "print('Searching for posts between ' + readable_after + ' and ' + readable_before + '.')\n",
    "currentDate = before"
   ]
  },
  {
   "cell_type": "markdown",
   "metadata": {},
   "source": [
    "Using pushshift will allow us to retrieve valuable information from reddit submissions including:\n",
    "- Submission ID\n",
    "- Submission title\n",
    "- Submission date\n",
    "- Submission permalink\n",
    "- Submission domain\n",
    "- Submission url\n",
    "- Submission author\n",
    "- Submission score (upvotes)\n",
    "- Submission upvote_ratio (ratio of upvotes to downvotes)\n",
    "- Submission number of comments\n",
    "\n",
    "However, it does not provide us with the flair information."
   ]
  },
  {
   "cell_type": "code",
   "execution_count": null,
   "metadata": {
    "scrolled": true
   },
   "outputs": [],
   "source": [
    "# Perform a new full pull from Pushshift\n",
    "def newpull(thisBefore):\n",
    "    global currentDate\n",
    "    readable_thisBefore = time.strftime('%d %b %Y %I:%M %p', time.localtime(thisBefore))\n",
    "    print('Searching posts before ' + str(readable_thisBefore))\n",
    "    url = 'http://api.pushshift.io/reddit/search/submission/?subreddit=' + sub + '&size=500&before=' + str(thisBefore)\n",
    "    headers = {'User-Agent': 'Mozilla/5.0 (Windows NT 6.1; Win64; x64)'}\n",
    "    response = requests.get(url, headers=headers)\n",
    "    if response.status_code != 200:\n",
    "        print('    Discussion: HTML Error - ', response.status_code)\n",
    "        time.sleep(60)\n",
    "        return\n",
    "    curJSON = response.json()\n",
    "\n",
    "    # Update each Pushshift result with Reddit data\n",
    "    for child in curJSON['data']:\n",
    "\n",
    "        # Check to see if already added\n",
    "        name = str(child['id'])\n",
    "        cur.execute('SELECT * FROM posts WHERE name == ?', [name])\n",
    "        if cur.fetchone():\n",
    "            print(str(child['id']) + ' skipped (already in database)')\n",
    "            continue\n",
    "\n",
    "        # If not, get more data\n",
    "        if fast is True:\n",
    "            searchURL = 'http://reddit.com/by_id/t3_'\n",
    "        else:\n",
    "            searchURL = 'http://reddit.com/'\n",
    "        url = searchURL + str(name) + '.json'\n",
    "        headers = {'User-Agent': 'Mozilla/5.0 (Windows NT 6.1; Win64; x64)'}\n",
    "        response = requests.get(url, headers=headers)\n",
    "        if response.status_code != 200:\n",
    "            print('    Discussion: HTML Error - ', response.status_code)\n",
    "            time.sleep(60)\n",
    "            break\n",
    "        postJSON = response.json()\n",
    "        if fast is True:\n",
    "            jsonStart = postJSON\n",
    "        else:\n",
    "            jsonStart = postJSON[0]\n",
    "\n",
    "        # Check to see if Date has passed\n",
    "        global currentDate\n",
    "        created_utc = jsonStart['data']['children'][0]['data']['created_utc']\n",
    "        currentDate = int(created_utc)\n",
    "        if currentDate <= after:\n",
    "            break\n",
    "\n",
    "        # If not, process remaining data\n",
    "        try:\n",
    "            title = str(jsonStart['data']['children'][0]['data']['title'])  # Checks for emojis and other non-printable characters\n",
    "        except UnicodeEncodeError:\n",
    "            title = ''.join(c for c in str(jsonStart['data']['children'][0]['data']['title']) if c in string.printable)\n",
    "        readable_utc = time.strftime('%d %b %Y %I:%M %p', time.localtime(created_utc))\n",
    "        permalink    = (str(jsonStart['data']['children'][0]['data']['permalink']))\n",
    "        domain       = (str(jsonStart['data']['children'][0]['data']['domain']))\n",
    "        url          = (str(jsonStart['data']['children'][0]['data']['url']))\n",
    "        author       = (str(jsonStart['data']['children'][0]['data']['author']))\n",
    "        score        = (str(jsonStart['data']['children'][0]['data']['score']))\n",
    "        num_comments = (str(jsonStart['data']['children'][0]['data']['num_comments']))\n",
    "        if fast is True:\n",
    "            upvote_ratio = 0\n",
    "        else:\n",
    "            upvote_ratio = (str(jsonStart['data']['children'][0]['data']['upvote_ratio']))\n",
    "\n",
    "        # Write it to SQL Database\n",
    "        cur.execute('INSERT INTO posts VALUES(?,?,?,?,?,?,?,?,?,?)', [name, title, readable_utc, permalink, domain, url, author, score, upvote_ratio, num_comments])\n",
    "        sql.commit()\n",
    "\n",
    "# Run the newpull\n",
    "while currentDate >= after:\n",
    "    newpull(currentDate)"
   ]
  },
  {
   "cell_type": "markdown",
   "metadata": {},
   "source": [
    "Now that we have pulled the data from pushshift, we will need to create a dataframe which will store the relevant information (title, date, time, upvotes, id)."
   ]
  },
  {
   "cell_type": "code",
   "execution_count": null,
   "metadata": {},
   "outputs": [],
   "source": [
    "# Reconnect to sqlite\n",
    "connection = sqlite3.connect(\"personalfinance_.db\") \n",
    "  \n",
    "# Cursor object \n",
    "crsr = connection.cursor() \n",
    "  \n",
    "# Execute the command to fetch all the data from the table posts \n",
    "crsr.execute(\"SELECT * FROM posts\")  \n",
    "  \n",
    "# Store all the fetched data in the ans variable \n",
    "ans= crsr.fetchall()  \n",
    "\n",
    "# Create \"empty\" dataframe\n",
    "columns = ['title']\n",
    "index = range(0,2)\n",
    "df = pd.DataFrame(index = index, columns = columns)\n",
    "df = df.fillna(0)\n",
    "\n",
    "# Create new columns and extract the relevant data \n",
    "for n, i in enumerate(ans):\n",
    "    # Create title column\n",
    "    df.loc[n , 'title'] = i[1]\n",
    "    # Create date column\n",
    "    df.loc[n , 'date'] = i[2][:-8]\n",
    "    # Create time column\n",
    "    df.loc[n , 'time'] = i[2][-8:]\n",
    "    # Create upvote column\n",
    "    df.loc[n , 'upvotes'] = i[7]\n",
    "    # Create id column\n",
    "    df.loc[n , 'id'] = i[0]"
   ]
  },
  {
   "cell_type": "markdown",
   "metadata": {},
   "source": [
    "- **Retrieve flair information from Reddit's API**\n",
    "\n",
    "As mentioned before, we still need to extract the flair (which indicates the topic of each submission) from each post. To do this, we will have to initiate a Reddit instance using praw (which gives access to Reddit's API)."
   ]
  },
  {
   "cell_type": "code",
   "execution_count": 2,
   "metadata": {},
   "outputs": [],
   "source": [
    "# Create new Reddit instance\n",
    "reddit = praw.Reddit(client_id='',\n",
    "                     client_secret='',\n",
    "                     user_agent='',\n",
    "                    username = '',\n",
    "                    password = '')"
   ]
  },
  {
   "cell_type": "markdown",
   "metadata": {},
   "source": [
    "Create a for-loop that will check and return the appropriate flair for each submission by using its ID as verification."
   ]
  },
  {
   "cell_type": "code",
   "execution_count": null,
   "metadata": {},
   "outputs": [],
   "source": [
    "for a,b in enumerate(df.id):\n",
    "    df.loc[a, 'topic'] = reddit.submission(id = \"{}\".format(b)).link_flair_text"
   ]
  },
  {
   "cell_type": "code",
   "execution_count": null,
   "metadata": {},
   "outputs": [],
   "source": [
    "# Sort by date\n",
    "df.sort_values(by = 'date', ascending = False, inplace=True)\n",
    "# Save as .csv file\n",
    "df.to_csv(r'C:\\Users\\joshu\\Downloads\\Data\\reddit\\reddit_pf.csv')"
   ]
  },
  {
   "cell_type": "code",
   "execution_count": 245,
   "metadata": {},
   "outputs": [],
   "source": [
    "# Open file\n",
    "df = pd.read_csv(r'C:\\Users\\joshu\\Downloads\\Data\\reddit\\reddit_pf.csv')"
   ]
  },
  {
   "cell_type": "code",
   "execution_count": 247,
   "metadata": {},
   "outputs": [],
   "source": [
    "# Drop the unnamed column.\n",
    "df.drop('Unnamed: 0',axis=1, inplace=True)"
   ]
  },
  {
   "cell_type": "markdown",
   "metadata": {},
   "source": [
    "- **Convert Dates into datetime format**\n",
    "\n",
    "Since the data is given as a string, we will need to convert it into datatime format."
   ]
  },
  {
   "cell_type": "code",
   "execution_count": 252,
   "metadata": {},
   "outputs": [],
   "source": [
    "from datetime import datetime\n",
    "b = df.date[10000]\n",
    "df.loc[a, 'date'] = datetime.strptime(b, '%d %b %Y ').date()"
   ]
  },
  {
   "cell_type": "code",
   "execution_count": null,
   "metadata": {},
   "outputs": [],
   "source": [
    "for a,b in enumerate(df.date):\n",
    "     df.loc[a, 'date'] = datetime.strptime(b, '%d %b %Y ').date()\n",
    "df = df.sort_values(by='date', ascending = False).reset_index().drop('index',axis='columns')"
   ]
  },
  {
   "cell_type": "markdown",
   "metadata": {},
   "source": [
    "- **Examine basic information**\n",
    "\n",
    "Let's begin by taking a peek at the dataframe's contents."
   ]
  },
  {
   "cell_type": "code",
   "execution_count": 253,
   "metadata": {},
   "outputs": [
    {
     "data": {
      "text/html": [
       "<div>\n",
       "<style scoped>\n",
       "    .dataframe tbody tr th:only-of-type {\n",
       "        vertical-align: middle;\n",
       "    }\n",
       "\n",
       "    .dataframe tbody tr th {\n",
       "        vertical-align: top;\n",
       "    }\n",
       "\n",
       "    .dataframe thead th {\n",
       "        text-align: right;\n",
       "    }\n",
       "</style>\n",
       "<table border=\"1\" class=\"dataframe\">\n",
       "  <thead>\n",
       "    <tr style=\"text-align: right;\">\n",
       "      <th></th>\n",
       "      <th>title</th>\n",
       "      <th>date</th>\n",
       "      <th>time</th>\n",
       "      <th>upvotes</th>\n",
       "      <th>id</th>\n",
       "      <th>topic</th>\n",
       "    </tr>\n",
       "  </thead>\n",
       "  <tbody>\n",
       "    <tr>\n",
       "      <th>0</th>\n",
       "      <td>Credit card raised my limit without me asking....</td>\n",
       "      <td>31 Aug 2018</td>\n",
       "      <td>11:59 PM</td>\n",
       "      <td>0</td>\n",
       "      <td>9c06kj</td>\n",
       "      <td>Credit</td>\n",
       "    </tr>\n",
       "    <tr>\n",
       "      <th>1</th>\n",
       "      <td>An automatic recurring membership was billed f...</td>\n",
       "      <td>31 Aug 2018</td>\n",
       "      <td>09:27 PM</td>\n",
       "      <td>1</td>\n",
       "      <td>9bz9q8</td>\n",
       "      <td>Debt</td>\n",
       "    </tr>\n",
       "    <tr>\n",
       "      <th>2</th>\n",
       "      <td>Started a 401k @ 30 years old. First check hit...</td>\n",
       "      <td>31 Aug 2018</td>\n",
       "      <td>02:17 PM</td>\n",
       "      <td>13</td>\n",
       "      <td>9bw0vk</td>\n",
       "      <td>Investing</td>\n",
       "    </tr>\n",
       "    <tr>\n",
       "      <th>3</th>\n",
       "      <td>New Job vs. Counter Offer; What Do I Do?</td>\n",
       "      <td>31 Aug 2018</td>\n",
       "      <td>11:57 PM</td>\n",
       "      <td>6</td>\n",
       "      <td>9c062g</td>\n",
       "      <td>Employment</td>\n",
       "    </tr>\n",
       "    <tr>\n",
       "      <th>4</th>\n",
       "      <td>I need health insurance and I don't know what ...</td>\n",
       "      <td>31 Aug 2018</td>\n",
       "      <td>11:51 PM</td>\n",
       "      <td>3</td>\n",
       "      <td>9c04yk</td>\n",
       "      <td>Insurance</td>\n",
       "    </tr>\n",
       "  </tbody>\n",
       "</table>\n",
       "</div>"
      ],
      "text/plain": [
       "                                               title          date      time  \\\n",
       "0  Credit card raised my limit without me asking....  31 Aug 2018   11:59 PM   \n",
       "1  An automatic recurring membership was billed f...  31 Aug 2018   09:27 PM   \n",
       "2  Started a 401k @ 30 years old. First check hit...  31 Aug 2018   02:17 PM   \n",
       "3           New Job vs. Counter Offer; What Do I Do?  31 Aug 2018   11:57 PM   \n",
       "4  I need health insurance and I don't know what ...  31 Aug 2018   11:51 PM   \n",
       "\n",
       "   upvotes      id       topic  \n",
       "0        0  9c06kj      Credit  \n",
       "1        1  9bz9q8        Debt  \n",
       "2       13  9bw0vk   Investing  \n",
       "3        6  9c062g  Employment  \n",
       "4        3  9c04yk   Insurance  "
      ]
     },
     "execution_count": 253,
     "metadata": {},
     "output_type": "execute_result"
    }
   ],
   "source": [
    "df.head()"
   ]
  },
  {
   "cell_type": "code",
   "execution_count": 254,
   "metadata": {},
   "outputs": [
    {
     "name": "stdout",
     "output_type": "stream",
     "text": [
      "Dimensions of the dataframe: (10183, 6)\n",
      "--------------------\n",
      "<class 'pandas.core.frame.DataFrame'>\n",
      "RangeIndex: 10183 entries, 0 to 10182\n",
      "Data columns (total 6 columns):\n",
      "title      10183 non-null object\n",
      "date       10183 non-null object\n",
      "time       10183 non-null object\n",
      "upvotes    10183 non-null int64\n",
      "id         10183 non-null object\n",
      "topic      9532 non-null object\n",
      "dtypes: int64(1), object(5)\n",
      "memory usage: 477.4+ KB\n"
     ]
    }
   ],
   "source": [
    "print('Dimensions of the dataframe: {}'.format(df.shape))\n",
    "print(20*'-')\n",
    "df.info()"
   ]
  },
  {
   "cell_type": "code",
   "execution_count": 255,
   "metadata": {},
   "outputs": [
    {
     "data": {
      "text/html": [
       "<div>\n",
       "<style scoped>\n",
       "    .dataframe tbody tr th:only-of-type {\n",
       "        vertical-align: middle;\n",
       "    }\n",
       "\n",
       "    .dataframe tbody tr th {\n",
       "        vertical-align: top;\n",
       "    }\n",
       "\n",
       "    .dataframe thead th {\n",
       "        text-align: right;\n",
       "    }\n",
       "</style>\n",
       "<table border=\"1\" class=\"dataframe\">\n",
       "  <thead>\n",
       "    <tr style=\"text-align: right;\">\n",
       "      <th></th>\n",
       "      <th>upvotes</th>\n",
       "    </tr>\n",
       "  </thead>\n",
       "  <tbody>\n",
       "    <tr>\n",
       "      <th>count</th>\n",
       "      <td>10183.000000</td>\n",
       "    </tr>\n",
       "    <tr>\n",
       "      <th>mean</th>\n",
       "      <td>32.346165</td>\n",
       "    </tr>\n",
       "    <tr>\n",
       "      <th>std</th>\n",
       "      <td>591.218354</td>\n",
       "    </tr>\n",
       "    <tr>\n",
       "      <th>min</th>\n",
       "      <td>0.000000</td>\n",
       "    </tr>\n",
       "    <tr>\n",
       "      <th>25%</th>\n",
       "      <td>1.000000</td>\n",
       "    </tr>\n",
       "    <tr>\n",
       "      <th>50%</th>\n",
       "      <td>1.000000</td>\n",
       "    </tr>\n",
       "    <tr>\n",
       "      <th>75%</th>\n",
       "      <td>2.000000</td>\n",
       "    </tr>\n",
       "    <tr>\n",
       "      <th>max</th>\n",
       "      <td>36718.000000</td>\n",
       "    </tr>\n",
       "  </tbody>\n",
       "</table>\n",
       "</div>"
      ],
      "text/plain": [
       "            upvotes\n",
       "count  10183.000000\n",
       "mean      32.346165\n",
       "std      591.218354\n",
       "min        0.000000\n",
       "25%        1.000000\n",
       "50%        1.000000\n",
       "75%        2.000000\n",
       "max    36718.000000"
      ]
     },
     "execution_count": 255,
     "metadata": {},
     "output_type": "execute_result"
    }
   ],
   "source": [
    "df.describe()"
   ]
  },
  {
   "cell_type": "markdown",
   "metadata": {},
   "source": [
    "## **Explore the data**\n",
    "\n",
    "- Note: For the sake of clarity, this project will use **\"topic\"** to describe the actual topic that was assigned to each submission while **\"subject\"** will refer to the generated/artificial topic that was extracted from the data."
   ]
  },
  {
   "cell_type": "code",
   "execution_count": 71,
   "metadata": {},
   "outputs": [
    {
     "data": {
      "text/plain": [
       "Debt          1256\n",
       "Other         1205\n",
       "Credit        1048\n",
       "Investing      859\n",
       "Retirement     824\n",
       "Employment     724\n",
       "Housing        709\n",
       "Auto           560\n",
       "Planning       526\n",
       "Saving         524\n",
       "Name: topic, dtype: int64"
      ]
     },
     "execution_count": 71,
     "metadata": {},
     "output_type": "execute_result"
    }
   ],
   "source": [
    "# Top 10 most popular topics (flairs)\n",
    "df.topic.value_counts()[0:10]"
   ]
  },
  {
   "cell_type": "code",
   "execution_count": 81,
   "metadata": {},
   "outputs": [
    {
     "data": {
      "image/png": "[encoded data removed]",
      "text/plain": [
       "<Figure size 720x360 with 1 Axes>"
      ]
     },
     "metadata": {
      "needs_background": "light"
     },
     "output_type": "display_data"
    }
   ],
   "source": [
    "plt.figure(figsize = (10,5))\n",
    "df.topic.value_counts()[0:10][::-1].plot(kind='barh')\n",
    "plt.xlabel('Count')\n",
    "plt.ylabel('Topic')\n",
    "plt.title('Personal Finance Topic Count')\n",
    "plt.show()"
   ]
  },
  {
   "cell_type": "markdown",
   "metadata": {},
   "source": [
    "- Debt is the most popular topic in the personal finance subreddit, followed by Other and Credit. This indicates that debt is a major concern for many of the redditors (users) and they make submissions in order to seek advice.\n",
    "\n",
    "- Other would include topics that don't match the default topics. With more data, it could be possible that Other is the most popular topic instead of Debt.\n",
    "\n",
    "- Investment and Retirement are also similar in their counts while also being very similar in their functions.\n",
    "\n",
    "- Let's look at the top 10 most popular submissions by sorting them by the number of upvotes."
   ]
  },
  {
   "cell_type": "code",
   "execution_count": 57,
   "metadata": {},
   "outputs": [
    {
     "data": {
      "text/plain": [
       "[\"IRS will allow employers to match their employees' student loan repayments\",\n",
       " 'Your amazon store card is probably scamming you',\n",
       " 'So I fell for a scam yesterday and it still angers me.',\n",
       " 'Wife passed away. I would truly appreciate some help figuring out where I stand.',\n",
       " 'Bought a car today. Transmission went out 60 miles from the car lot and everyone had gone home for the day. Is there any chance I can get a refund?',\n",
       " 'My girlfriend is being offered a too good to be true job with little to no personal history with employer.',\n",
       " 'Do I need a credit card? I have been strongly advised against it by my parents who say its a scam and should be illegal but everything I look at says that no credit is just as bad if not worse than low credit. What should I do?',\n",
       " '[US] Paypal account balance is -$2000. What can they do?',\n",
       " 'Why You Might Consider A Trade Over College (One Real-World Perspective)',\n",
       " '\"Hidden\" costs of buying a home and how to prepare for them.']"
      ]
     },
     "execution_count": 57,
     "metadata": {},
     "output_type": "execute_result"
    }
   ],
   "source": [
    "# Top 10 most popular headlines\n",
    "[title for title in df.sort_values(by='upvotes', ascending=False)['title'].values[:10]]"
   ]
  },
  {
   "cell_type": "markdown",
   "metadata": {},
   "source": [
    "- There are a variety of different subjects in the top 10 most popular posts, ranging from scams to dealing with the loss of a family member.\n",
    "\n",
    "- However, 3 of the top 10 include the word \"scam\", showing that this may be a popular subject in /r/personalfinance and could happen often. This could be a common issue among many people living in the US.\n",
    "\n",
    "- While some posts are seeking advice, others provide advice such as '\"Hidden\" costs of buying a home and how to prepare for them.'\n",
    "\n",
    "\n",
    "\n",
    "- Next let's import the nltk package and use the set of stopwords to extract key words from the 20 most popular submissions. "
   ]
  },
  {
   "cell_type": "code",
   "execution_count": 54,
   "metadata": {},
   "outputs": [],
   "source": [
    "from nltk import word_tokenize\n",
    "from nltk.corpus import stopwords\n",
    "import string\n",
    "\n",
    "stopwords = set(stopwords.words('english'))"
   ]
  },
  {
   "cell_type": "code",
   "execution_count": 87,
   "metadata": {},
   "outputs": [],
   "source": [
    "best_titles = df.sort_values(by='upvotes', ascending=False)['title'].values[:20]\n",
    "best_words = set(np.concatenate([word_tokenize(t) for t in best_titles])) - stopwords\n",
    "best_words = {word.lower() for word in best_words}\n",
    "best_words = best_words - set(string.punctuation) - set(string.digits)\n",
    "\n",
    "def is_float(s):\n",
    "    try:\n",
    "        float(s)\n",
    "        return True\n",
    "    except ValueError:\n",
    "        return False\n",
    "\n",
    "best_words = {word for word in best_words if not is_float(word)}\n",
    "\n",
    "best_words = {word for word in best_words if \"'\" not in word}  # drop contractions"
   ]
  },
  {
   "cell_type": "code",
   "execution_count": 88,
   "metadata": {},
   "outputs": [
    {
     "data": {
      "text/plain": [
       "passed            (895.9615384615385, 26)\n",
       "keep             (74.00980392156863, 102)\n",
       "selling                       (150.2, 40)\n",
       "transmission                     (5.6, 5)\n",
       "probably                     (2598.7, 10)\n",
       "should          (29.550321199143468, 467)\n",
       "scam              (729.9571428571429, 70)\n",
       "fund             (79.38325991189427, 227)\n",
       "20,000            (349.7142857142857, 21)\n",
       "live              (97.10526315789474, 76)\n",
       "figuring                    (1536.375, 8)\n",
       "1.8k                          (6808.0, 1)\n",
       "mistake           (305.9047619047619, 21)\n",
       "prove            (125.15254237288136, 59)\n",
       "so              (47.140946502057616, 972)\n",
       "lot                           (245.5, 42)\n",
       "might            (19.058823529411764, 17)\n",
       "over            (40.800586510263926, 341)\n",
       "do              (41.39578005115089, 1564)\n",
       "face               (964.8333333333334, 6)\n",
       "employers         (4081.5555555555557, 9)\n",
       "account         (101.39088729016787, 417)\n",
       "situation         (82.95348837209302, 86)\n",
       "one              (32.16990788126919, 977)\n",
       "balance          (113.63855421686748, 83)\n",
       "dtype: object"
      ]
     },
     "execution_count": 88,
     "metadata": {},
     "output_type": "execute_result"
    }
   ],
   "source": [
    "pd.Series(index=list(best_words)[:25], data=[(df[df['title'].map(lambda title: word in title)]['upvotes'].mean(),\n",
    "                                             df[df['title'].map(lambda title: word in title)]['upvotes'].count())\n",
    "                                            for word in list(best_words)[:25]])"
   ]
  },
  {
   "cell_type": "markdown",
   "metadata": {},
   "source": [
    "- As we can see, there are a lot of words that are very situational in nature such as \"probably\", \"should\", \"might\", \"situation\".\n",
    "\n",
    "- Some words can give us an idea of what the topic is about such as \"transmission\", \"scam\", \"fund\", \"employers\".\n",
    "\n",
    "- However other words are ambiguous and could have multiple implications such as \"passed\", \"live\", \"lot\", \"account\".\n",
    "\n",
    "\n",
    "\n",
    "- Let's specifically look at cases where \"passed\" is in the title to observe its connotation and context in /r/personalfinance."
   ]
  },
  {
   "cell_type": "code",
   "execution_count": 68,
   "metadata": {},
   "outputs": [
    {
     "data": {
      "text/html": [
       "<div>\n",
       "<style scoped>\n",
       "    .dataframe tbody tr th:only-of-type {\n",
       "        vertical-align: middle;\n",
       "    }\n",
       "\n",
       "    .dataframe tbody tr th {\n",
       "        vertical-align: top;\n",
       "    }\n",
       "\n",
       "    .dataframe thead th {\n",
       "        text-align: right;\n",
       "    }\n",
       "</style>\n",
       "<table border=\"1\" class=\"dataframe\">\n",
       "  <thead>\n",
       "    <tr style=\"text-align: right;\">\n",
       "      <th></th>\n",
       "      <th>title</th>\n",
       "      <th>date</th>\n",
       "      <th>time</th>\n",
       "      <th>upvotes</th>\n",
       "      <th>id</th>\n",
       "      <th>topic</th>\n",
       "    </tr>\n",
       "  </thead>\n",
       "  <tbody>\n",
       "    <tr>\n",
       "      <th>890</th>\n",
       "      <td>Father passed away, mother not on mortgage or ...</td>\n",
       "      <td>2018-08-30</td>\n",
       "      <td>12:06 AM</td>\n",
       "      <td>1</td>\n",
       "      <td>9bgdx1</td>\n",
       "      <td>Other</td>\n",
       "    </tr>\n",
       "    <tr>\n",
       "      <th>1429</th>\n",
       "      <td>Both parents passed away abruptly. Going solo ...</td>\n",
       "      <td>2018-08-28</td>\n",
       "      <td>09:21 PM</td>\n",
       "      <td>3758</td>\n",
       "      <td>9b4t7o</td>\n",
       "      <td>Other</td>\n",
       "    </tr>\n",
       "    <tr>\n",
       "      <th>1949</th>\n",
       "      <td>An aunt passed away, a while ago my mother sha...</td>\n",
       "      <td>2018-08-27</td>\n",
       "      <td>08:28 PM</td>\n",
       "      <td>1</td>\n",
       "      <td>9aub1n</td>\n",
       "      <td>Other</td>\n",
       "    </tr>\n",
       "    <tr>\n",
       "      <th>2001</th>\n",
       "      <td>26 Years Old, Mom just passed away and around ...</td>\n",
       "      <td>2018-08-27</td>\n",
       "      <td>06:33 PM</td>\n",
       "      <td>14</td>\n",
       "      <td>9ath0l</td>\n",
       "      <td>Debt</td>\n",
       "    </tr>\n",
       "    <tr>\n",
       "      <th>2371</th>\n",
       "      <td>[TX] Bro in law passed away with no will, need...</td>\n",
       "      <td>2018-08-27</td>\n",
       "      <td>12:15 AM</td>\n",
       "      <td>3</td>\n",
       "      <td>9alxol</td>\n",
       "      <td>Other</td>\n",
       "    </tr>\n",
       "    <tr>\n",
       "      <th>2456</th>\n",
       "      <td>Dad passed away, what's the best way to set my...</td>\n",
       "      <td>2018-08-26</td>\n",
       "      <td>07:01 PM</td>\n",
       "      <td>9</td>\n",
       "      <td>9ajtyn</td>\n",
       "      <td>Other</td>\n",
       "    </tr>\n",
       "    <tr>\n",
       "      <th>2476</th>\n",
       "      <td>Father passed away - help locating banking inf...</td>\n",
       "      <td>2018-08-26</td>\n",
       "      <td>05:34 PM</td>\n",
       "      <td>1</td>\n",
       "      <td>9aj7eh</td>\n",
       "      <td>Saving</td>\n",
       "    </tr>\n",
       "    <tr>\n",
       "      <th>2985</th>\n",
       "      <td>Mum passed away a few years ago, looking for t...</td>\n",
       "      <td>2018-09-19</td>\n",
       "      <td>06:52 AM</td>\n",
       "      <td>0</td>\n",
       "      <td>9h445e</td>\n",
       "      <td>Investing</td>\n",
       "    </tr>\n",
       "    <tr>\n",
       "      <th>4283</th>\n",
       "      <td>[UK] 25, just entered into 5yr mortgage fixtur...</td>\n",
       "      <td>2018-09-16</td>\n",
       "      <td>05:38 AM</td>\n",
       "      <td>2</td>\n",
       "      <td>9g9e0r</td>\n",
       "      <td>Housing</td>\n",
       "    </tr>\n",
       "    <tr>\n",
       "      <th>4356</th>\n",
       "      <td>Dad passed in December. Mom lives in AZ and on...</td>\n",
       "      <td>2018-09-15</td>\n",
       "      <td>10:44 PM</td>\n",
       "      <td>1</td>\n",
       "      <td>9g7ays</td>\n",
       "      <td>Other</td>\n",
       "    </tr>\n",
       "  </tbody>\n",
       "</table>\n",
       "</div>"
      ],
      "text/plain": [
       "                                                  title        date      time  \\\n",
       "890   Father passed away, mother not on mortgage or ...  2018-08-30  12:06 AM   \n",
       "1429  Both parents passed away abruptly. Going solo ...  2018-08-28  09:21 PM   \n",
       "1949  An aunt passed away, a while ago my mother sha...  2018-08-27  08:28 PM   \n",
       "2001  26 Years Old, Mom just passed away and around ...  2018-08-27  06:33 PM   \n",
       "2371  [TX] Bro in law passed away with no will, need...  2018-08-27  12:15 AM   \n",
       "2456  Dad passed away, what's the best way to set my...  2018-08-26  07:01 PM   \n",
       "2476  Father passed away - help locating banking inf...  2018-08-26  05:34 PM   \n",
       "2985  Mum passed away a few years ago, looking for t...  2018-09-19  06:52 AM   \n",
       "4283  [UK] 25, just entered into 5yr mortgage fixtur...  2018-09-16  05:38 AM   \n",
       "4356  Dad passed in December. Mom lives in AZ and on...  2018-09-15  10:44 PM   \n",
       "\n",
       "      upvotes      id      topic  \n",
       "890         1  9bgdx1      Other  \n",
       "1429     3758  9b4t7o      Other  \n",
       "1949        1  9aub1n      Other  \n",
       "2001       14  9ath0l       Debt  \n",
       "2371        3  9alxol      Other  \n",
       "2456        9  9ajtyn      Other  \n",
       "2476        1  9aj7eh     Saving  \n",
       "2985        0  9h445e  Investing  \n",
       "4283        2  9g9e0r    Housing  \n",
       "4356        1  9g7ays      Other  "
      ]
     },
     "execution_count": 68,
     "metadata": {},
     "output_type": "execute_result"
    }
   ],
   "source": [
    "df[df['title'].map(lambda title: 'passed' in title)].head(10)"
   ]
  },
  {
   "cell_type": "markdown",
   "metadata": {},
   "source": [
    "- It's now clear that it is mostly used to sadly describe the passing away of a family member. \n",
    "\n",
    "- When looking at the topics, these submissions mostly fall under \"Other\" while the rest fall under a variety of topics such as Debt or Housing.\n",
    "\n",
    "\n",
    "\n",
    "- Next let's tokenize the submissions using the word_tokenize() function and remove unnecessary characters (numbers, punctaation)."
   ]
  },
  {
   "cell_type": "code",
   "execution_count": 226,
   "metadata": {},
   "outputs": [],
   "source": [
    "words_tokenized = [[w.lower() for w in word_tokenize(t)] for t in df['title']]\n",
    "df['tokenized_title'] = words_tokenized\n",
    "all_words = pd.Series(np.concatenate(words_tokenized)).value_counts()"
   ]
  },
  {
   "cell_type": "code",
   "execution_count": 90,
   "metadata": {},
   "outputs": [],
   "source": [
    "all_words = all_words[[word not in stopwords for word in all_words.index]]\n",
    "all_words = all_words[[word not in string.punctuation for word in all_words.index]]\n",
    "all_words = all_words[[word not in string.digits for word in all_words.index]]\n",
    "all_words = all_words[[not is_float(word) for word in all_words.index]]\n",
    "all_words = all_words[[\"'\" not in word for word in all_words.index]]"
   ]
  },
  {
   "cell_type": "code",
   "execution_count": 92,
   "metadata": {},
   "outputs": [
    {
     "data": {
      "text/plain": [
       "Index(['credit', 'car', 'debt', 'need', 'card', 'money', 'loan', 'help',\n",
       "       'advice', 'pay'],\n",
       "      dtype='object')"
      ]
     },
     "execution_count": 92,
     "metadata": {},
     "output_type": "execute_result"
    }
   ],
   "source": [
    "all_words[:10].index"
   ]
  },
  {
   "cell_type": "markdown",
   "metadata": {},
   "source": [
    "- Similar to the actual default topics assigned to the submissions, the subjects we extracted using tokenization have \"credit\" and \"debt\" as the most popular words. \n",
    "\n",
    "- There are other key words that shed some light on the sentiments of the redditors such as \"help\", \"advice\", and \"need\". This is not surprising as we have seen before that many redditors come to /r/personalfinance seeking help for their debt issues.\n",
    "\n",
    "- Next let's further analyze the words by using the PorterStemmer() function, which stems words to its root form. Ex. Articulating becomes Articulate."
   ]
  },
  {
   "cell_type": "code",
   "execution_count": 184,
   "metadata": {},
   "outputs": [
    {
     "data": {
      "text/plain": [
       "Index(['credit', 'car', 'debt', 'need', 'card', 'money', 'loan', 'help',\n",
       "       'advic', 'pay'],\n",
       "      dtype='object')"
      ]
     },
     "execution_count": 184,
     "metadata": {},
     "output_type": "execute_result"
    }
   ],
   "source": [
    "from nltk.stem.porter import PorterStemmer\n",
    "stemmer = PorterStemmer()\n",
    "all_words.index = [stemmer.stem(w) for w in all_words.index]\n",
    "all_words[:10].index"
   ]
  },
  {
   "cell_type": "markdown",
   "metadata": {},
   "source": [
    "- Not much has really changed for the top 10 most popular words, other than the fact that \"advice\" has been shortened to \"advic\". \n",
    "\n",
    "\n",
    "\n",
    "- Let's graph the list of tokenized words by their count using a scatterplot."
   ]
  },
  {
   "cell_type": "code",
   "execution_count": 210,
   "metadata": {},
   "outputs": [
    {
     "data": {
      "text/plain": [
       "7657"
      ]
     },
     "execution_count": 210,
     "metadata": {},
     "output_type": "execute_result"
    }
   ],
   "source": [
    "# Check the total number of words.\n",
    "\n",
    "len(all_words)"
   ]
  },
  {
   "cell_type": "code",
   "execution_count": 213,
   "metadata": {
    "scrolled": true
   },
   "outputs": [
    {
     "data": {
      "image/png": "[encoded data removed]",
      "text/plain": [
       "<Figure size 720x360 with 1 Axes>"
      ]
     },
     "metadata": {
      "needs_background": "light"
     },
     "output_type": "display_data"
    }
   ],
   "source": [
    "# Create a list of words evenly spread out by 10 in the top 100.\n",
    "x = np.arange(0,100,10)\n",
    "ten_words_list = []\n",
    "for a in x:\n",
    "    ten_words_list.append(all_words.index[a])\n",
    "\n",
    "# Plot the words.\n",
    "plt.figure(figsize = (10,5))\n",
    "all_words[:100].plot()\n",
    "plt.xticks(np.arange(0,100, 10), ten_words_list)\n",
    "plt.xlabel('Tokenized Words')\n",
    "plt.ylabel('Count')\n",
    "plt.title('Tokenized Word Count')\n",
    "plt.show()"
   ]
  },
  {
   "cell_type": "markdown",
   "metadata": {},
   "source": [
    "- Interestingly, there is a sharp discrepency in the popularity of words between the top 3 and the rest. \n",
    "\n",
    "- We can see words such as job and employment are similar in their meaning but are vastly different in how frequently they come up in submission titles. This is probably due to the fact that people use \"job\" more colloquially than employment.\n",
    "\n",
    "- What happens when we group by the words themselves?"
   ]
  },
  {
   "cell_type": "code",
   "execution_count": 223,
   "metadata": {},
   "outputs": [
    {
     "data": {
      "text/plain": [
       "Index(['credit', 'loan', 'pay', 'card', 'need', 'debt', 'car', 'help', 'money',\n",
       "       'invest'],\n",
       "      dtype='object')"
      ]
     },
     "execution_count": 223,
     "metadata": {},
     "output_type": "execute_result"
    }
   ],
   "source": [
    "all_stems = all_words.groupby(all_words.index).sum().sort_values(ascending=False)\n",
    "all_stems[:10].index"
   ]
  },
  {
   "cell_type": "markdown",
   "metadata": {},
   "source": [
    "- Almost all the words in the previous top 10 stayed in the top 10, except for \"advic\" which was replaced by \"loan\".\n",
    "\n",
    "- Let's create a new column that contains the stemmed versions of the submission titles."
   ]
  },
  {
   "cell_type": "code",
   "execution_count": 227,
   "metadata": {},
   "outputs": [],
   "source": [
    "df['stemmed_title'] = df['tokenized_title'].map(lambda wl: [stemmer.stem(w) for w in wl])"
   ]
  },
  {
   "cell_type": "code",
   "execution_count": 230,
   "metadata": {},
   "outputs": [
    {
     "data": {
      "text/plain": [
       "0    [credit, card, rais, my, limit, without, me, a...\n",
       "1    [an, automat, recur, membership, wa, bill, for...\n",
       "2    [start, a, 401k, @, 30, year, old, ., first, c...\n",
       "3    [new, job, vs, ., counter, offer, ;, what, do,...\n",
       "4    [i, need, health, insur, and, i, do, n't, know...\n",
       "5    [about, to, get, screw, with, student, loan, r...\n",
       "6                 [invest, advice/guid, for, a, newbi]\n",
       "7    [wife, is, scare, that, work, will, fire, her,...\n",
       "8    [massiv, debt, and, get, a, big, payment, for,...\n",
       "9    [well, ,, i, 've, been, semi-retir, sinc, i, w...\n",
       "Name: stemmed_title, dtype: object"
      ]
     },
     "execution_count": 230,
     "metadata": {},
     "output_type": "execute_result"
    }
   ],
   "source": [
    "df['stemmed_title'].head(10)"
   ]
  },
  {
   "cell_type": "markdown",
   "metadata": {},
   "source": [
    "- Next, let's observe how the submissions have changed over the course of time."
   ]
  },
  {
   "cell_type": "code",
   "execution_count": 236,
   "metadata": {},
   "outputs": [
    {
     "data": {
      "image/png": "[encoded data removed]",
      "text/plain": [
       "<Figure size 720x360 with 1 Axes>"
      ]
     },
     "metadata": {},
     "output_type": "display_data"
    }
   ],
   "source": [
    "plt.figure(figsize=(10,5))\n",
    "df.groupby('date')['upvotes'].mean().plot()\n",
    "df.groupby('date')['upvotes'].median().plot()\n",
    "df.groupby('date')['upvotes'].mean().rolling(window=3).mean().plot(color='black')\n",
    "plt.xticks(rotation=45)\n",
    "plt.show()"
   ]
  },
  {
   "cell_type": "markdown",
   "metadata": {},
   "source": [
    "- **Most popular subjects**\n",
    "\n",
    "Let's start by taking the POS tag (part of speech) for each of the tokenized submission headers."
   ]
  },
  {
   "cell_type": "code",
   "execution_count": 127,
   "metadata": {},
   "outputs": [],
   "source": [
    "from nltk import pos_tag"
   ]
  },
  {
   "cell_type": "code",
   "execution_count": 130,
   "metadata": {},
   "outputs": [
    {
     "data": {
      "text/plain": [
       "[('credit', 'NN'),\n",
       " ('card', 'NN'),\n",
       " ('raised', 'VBD'),\n",
       " ('my', 'PRP$'),\n",
       " ('limit', 'NN')]"
      ]
     },
     "execution_count": 130,
     "metadata": {},
     "output_type": "execute_result"
    }
   ],
   "source": [
    "pos_tag(df['tokenized_title'][0])[0:5]"
   ]
  },
  {
   "cell_type": "code",
   "execution_count": 132,
   "metadata": {},
   "outputs": [],
   "source": [
    "df['pos_title'] = df['tokenized_title'].map(lambda t: [t[1] for t in pos_tag(t)])"
   ]
  },
  {
   "cell_type": "code",
   "execution_count": 133,
   "metadata": {},
   "outputs": [
    {
     "data": {
      "text/plain": [
       "0    [NN, NN, VBD, PRP$, NN, IN, PRP, VBG, ., JJ, V...\n",
       "1    [DT, JJ, VBG, NN, VBD, VBN, IN, DT, JJ, NN, ,,...\n",
       "2    [VBD, DT, CD, JJ, CD, NNS, JJ, ., JJ, NN, VBN,...\n",
       "3       [JJ, NN, NN, ., NN, NN, :, WP, VBP, VB, VB, .]\n",
       "4    [NNS, VBP, NN, NN, CC, NN, VBP, RB, VB, WP, TO...\n",
       "Name: pos_title, dtype: object"
      ]
     },
     "execution_count": 133,
     "metadata": {},
     "output_type": "execute_result"
    }
   ],
   "source": [
    "df['pos_title'].head()"
   ]
  },
  {
   "cell_type": "code",
   "execution_count": 134,
   "metadata": {},
   "outputs": [],
   "source": [
    "def topicify(srs):\n",
    "    tags = srs['pos_title']\n",
    "    stems = srs['stemmed_title']\n",
    "    return [stem for (tag, stem) in zip(tags, stems) if tag in ['NN', 'NNS']]"
   ]
  },
  {
   "cell_type": "code",
   "execution_count": 136,
   "metadata": {},
   "outputs": [],
   "source": [
    "df['gen_topics'] = df.apply(topicify, axis='columns')"
   ]
  },
  {
   "cell_type": "code",
   "execution_count": 138,
   "metadata": {},
   "outputs": [
    {
     "data": {
      "text/plain": [
       "0    [credit, card, limit, t, i, lot, credit, i, ’,...\n",
       "1                       [membership, year, i, collect]\n",
       "2                              [year, check, today, i]\n",
       "3                            [job, vs, counter, offer]\n",
       "4                                [i, health, insur, i]\n",
       "Name: gen_topics, dtype: object"
      ]
     },
     "execution_count": 138,
     "metadata": {},
     "output_type": "execute_result"
    }
   ],
   "source": [
    "df['gen_topics'].head()"
   ]
  },
  {
   "cell_type": "code",
   "execution_count": 139,
   "metadata": {},
   "outputs": [],
   "source": [
    "topic_counts = pd.Series(np.concatenate(df['gen_topics'].values)).value_counts()"
   ]
  },
  {
   "cell_type": "code",
   "execution_count": 140,
   "metadata": {},
   "outputs": [
    {
     "data": {
      "text/plain": [
       "i         1543\n",
       "credit    1266\n",
       "loan       896\n",
       "card       715\n",
       "debt       680\n",
       "dtype: int64"
      ]
     },
     "execution_count": 140,
     "metadata": {},
     "output_type": "execute_result"
    }
   ],
   "source": [
    "topic_counts.head()"
   ]
  },
  {
   "cell_type": "code",
   "execution_count": 141,
   "metadata": {},
   "outputs": [
    {
     "data": {
      "text/plain": [
       "credit     1266\n",
       "loan        896\n",
       "card        715\n",
       "debt        680\n",
       "car         676\n",
       "money       608\n",
       "advic       593\n",
       "year        548\n",
       "job         544\n",
       "student     488\n",
       "dtype: int64"
      ]
     },
     "execution_count": 141,
     "metadata": {},
     "output_type": "execute_result"
    }
   ],
   "source": [
    "topic_counts[1:].head(10)"
   ]
  },
  {
   "cell_type": "code",
   "execution_count": 146,
   "metadata": {},
   "outputs": [
    {
     "data": {
      "image/png": "[encoded data removed]",
      "text/plain": [
       "<Figure size 576x432 with 1 Axes>"
      ]
     },
     "metadata": {
      "needs_background": "light"
     },
     "output_type": "display_data"
    }
   ],
   "source": [
    "plt.figure(figsize=(8,6))\n",
    "topic_counts[1:].head(20)[::-1].plot(kind='barh')\n",
    "plt.show()"
   ]
  },
  {
   "cell_type": "code",
   "execution_count": 151,
   "metadata": {},
   "outputs": [
    {
     "data": {
      "text/plain": [
       "<matplotlib.axes._subplots.AxesSubplot at 0x1b4896d3a90>"
      ]
     },
     "execution_count": 151,
     "metadata": {},
     "output_type": "execute_result"
    },
    {
     "data": {
      "image/png": "[encoded data removed]",
      "text/plain": [
       "<Figure size 720x720 with 1 Axes>"
      ]
     },
     "metadata": {
      "needs_background": "light"
     },
     "output_type": "display_data"
    }
   ],
   "source": [
    "plt.figure(figsize=(10,10))\n",
    "topic_counts[1:].head(40)[::-1].plot(kind='barh')"
   ]
  },
  {
   "cell_type": "markdown",
   "metadata": {},
   "source": [
    "- **Sentiment analysis**\n",
    "\n",
    "Let's try doing sentiment analysis using the SentimentIntensityAnalyzer function."
   ]
  },
  {
   "cell_type": "code",
   "execution_count": 155,
   "metadata": {},
   "outputs": [],
   "source": [
    "from nltk.sentiment.vader import SentimentIntensityAnalyzer\n",
    "sid = SentimentIntensityAnalyzer()"
   ]
  },
  {
   "cell_type": "code",
   "execution_count": 156,
   "metadata": {},
   "outputs": [],
   "source": [
    "top_1000 = topic_counts.sort_values(ascending=False).head(1000)\n",
    "top_1000_sentiments = [sid.polarity_scores(w)['compound'] for w in top_1000.index]"
   ]
  },
  {
   "cell_type": "code",
   "execution_count": 157,
   "metadata": {},
   "outputs": [],
   "source": [
    "tmp = pd.DataFrame(top_1000).assign(sentiment=top_1000_sentiments)"
   ]
  },
  {
   "cell_type": "code",
   "execution_count": 176,
   "metadata": {},
   "outputs": [
    {
     "data": {
      "image/png": "[encoded data removed]",
      "text/plain": [
       "<Figure size 720x432 with 1 Axes>"
      ]
     },
     "metadata": {
      "needs_background": "light"
     },
     "output_type": "display_data"
    }
   ],
   "source": [
    "plt.figure(figsize=(10,6))\n",
    "tmp[tmp.sentiment>0].head(20)[0][::-1].plot(kind='barh', color='darkgreen')\n",
    "plt.show()"
   ]
  },
  {
   "cell_type": "code",
   "execution_count": 177,
   "metadata": {},
   "outputs": [
    {
     "data": {
      "image/png": "[encoded data removed]",
      "text/plain": [
       "<Figure size 720x432 with 1 Axes>"
      ]
     },
     "metadata": {
      "needs_background": "light"
     },
     "output_type": "display_data"
    }
   ],
   "source": [
    "plt.figure(figsize=(10,6))\n",
    "tmp[tmp.sentiment<0].head(20)[0][::-1].plot(kind='barh', color='darkred')\n",
    "plt.show()"
   ]
  },
  {
   "cell_type": "code",
   "execution_count": null,
   "metadata": {},
   "outputs": [],
   "source": []
  }
 ],
 "metadata": {
  "kernelspec": {
   "display_name": "Python 3",
   "language": "python",
   "name": "python3"
  },
  "language_info": {
   "codemirror_mode": {
    "name": "ipython",
    "version": 3
   },
   "file_extension": ".py",
   "mimetype": "text/x-python",
   "name": "python",
   "nbconvert_exporter": "python",
   "pygments_lexer": "ipython3",
   "version": "3.6.4"
  }
 },
 "nbformat": 4,
 "nbformat_minor": 2
}
